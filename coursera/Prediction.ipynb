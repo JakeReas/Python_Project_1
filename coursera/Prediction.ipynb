{
 "cells": [
  {
   "cell_type": "code",
   "execution_count": 2,
   "id": "7edd8893",
   "metadata": {},
   "outputs": [],
   "source": [
    "import pandas as pd\n",
    "import yfinance as yf\n",
    "import numpy as np\n",
    "import matplotlib as plt"
   ]
  },
  {
   "cell_type": "code",
   "execution_count": 24,
   "id": "17f4512b",
   "metadata": {},
   "outputs": [],
   "source": [
    "adani_df = yf.download('ITC.ns', \n",
    "                      start='2020-11-18', \n",
    "                      end='2022-1-20', \n",
    "                      progress=False)"
   ]
  },
  {
   "cell_type": "code",
   "execution_count": 29,
   "id": "12a38a93",
   "metadata": {},
   "outputs": [
    {
     "data": {
      "text/html": [
       "<div>\n",
       "<style scoped>\n",
       "    .dataframe tbody tr th:only-of-type {\n",
       "        vertical-align: middle;\n",
       "    }\n",
       "\n",
       "    .dataframe tbody tr th {\n",
       "        vertical-align: top;\n",
       "    }\n",
       "\n",
       "    .dataframe thead th {\n",
       "        text-align: right;\n",
       "    }\n",
       "</style>\n",
       "<table border=\"1\" class=\"dataframe\">\n",
       "  <thead>\n",
       "    <tr style=\"text-align: right;\">\n",
       "      <th></th>\n",
       "      <th>Open</th>\n",
       "      <th>High</th>\n",
       "      <th>Low</th>\n",
       "      <th>Close</th>\n",
       "      <th>Adj Close</th>\n",
       "      <th>Volume</th>\n",
       "    </tr>\n",
       "    <tr>\n",
       "      <th>Date</th>\n",
       "      <th></th>\n",
       "      <th></th>\n",
       "      <th></th>\n",
       "      <th></th>\n",
       "      <th></th>\n",
       "      <th></th>\n",
       "    </tr>\n",
       "  </thead>\n",
       "  <tbody>\n",
       "    <tr>\n",
       "      <th>2022-01-13</th>\n",
       "      <td>223.899994</td>\n",
       "      <td>225.800003</td>\n",
       "      <td>222.750000</td>\n",
       "      <td>223.949997</td>\n",
       "      <td>223.949997</td>\n",
       "      <td>11501088</td>\n",
       "    </tr>\n",
       "    <tr>\n",
       "      <th>2022-01-14</th>\n",
       "      <td>223.949997</td>\n",
       "      <td>224.800003</td>\n",
       "      <td>222.300003</td>\n",
       "      <td>222.600006</td>\n",
       "      <td>222.600006</td>\n",
       "      <td>10569725</td>\n",
       "    </tr>\n",
       "    <tr>\n",
       "      <th>2022-01-17</th>\n",
       "      <td>222.600006</td>\n",
       "      <td>225.600006</td>\n",
       "      <td>221.350006</td>\n",
       "      <td>224.600006</td>\n",
       "      <td>224.600006</td>\n",
       "      <td>12318313</td>\n",
       "    </tr>\n",
       "    <tr>\n",
       "      <th>2022-01-18</th>\n",
       "      <td>224.600006</td>\n",
       "      <td>227.300003</td>\n",
       "      <td>220.300003</td>\n",
       "      <td>220.750000</td>\n",
       "      <td>220.750000</td>\n",
       "      <td>14394097</td>\n",
       "    </tr>\n",
       "    <tr>\n",
       "      <th>2022-01-19</th>\n",
       "      <td>220.750000</td>\n",
       "      <td>222.399994</td>\n",
       "      <td>218.699997</td>\n",
       "      <td>220.350006</td>\n",
       "      <td>220.350006</td>\n",
       "      <td>11473796</td>\n",
       "    </tr>\n",
       "  </tbody>\n",
       "</table>\n",
       "</div>"
      ],
      "text/plain": [
       "                  Open        High         Low       Close   Adj Close  \\\n",
       "Date                                                                     \n",
       "2022-01-13  223.899994  225.800003  222.750000  223.949997  223.949997   \n",
       "2022-01-14  223.949997  224.800003  222.300003  222.600006  222.600006   \n",
       "2022-01-17  222.600006  225.600006  221.350006  224.600006  224.600006   \n",
       "2022-01-18  224.600006  227.300003  220.300003  220.750000  220.750000   \n",
       "2022-01-19  220.750000  222.399994  218.699997  220.350006  220.350006   \n",
       "\n",
       "              Volume  \n",
       "Date                  \n",
       "2022-01-13  11501088  \n",
       "2022-01-14  10569725  \n",
       "2022-01-17  12318313  \n",
       "2022-01-18  14394097  \n",
       "2022-01-19  11473796  "
      ]
     },
     "execution_count": 29,
     "metadata": {},
     "output_type": "execute_result"
    }
   ],
   "source": [
    "adani_df.tail()"
   ]
  },
  {
   "cell_type": "code",
   "execution_count": 30,
   "id": "30dd7fd4",
   "metadata": {},
   "outputs": [
    {
     "data": {
      "text/html": [
       "<div>\n",
       "<style scoped>\n",
       "    .dataframe tbody tr th:only-of-type {\n",
       "        vertical-align: middle;\n",
       "    }\n",
       "\n",
       "    .dataframe tbody tr th {\n",
       "        vertical-align: top;\n",
       "    }\n",
       "\n",
       "    .dataframe thead th {\n",
       "        text-align: right;\n",
       "    }\n",
       "</style>\n",
       "<table border=\"1\" class=\"dataframe\">\n",
       "  <thead>\n",
       "    <tr style=\"text-align: right;\">\n",
       "      <th></th>\n",
       "      <th>Open</th>\n",
       "      <th>High</th>\n",
       "      <th>Low</th>\n",
       "      <th>Close</th>\n",
       "      <th>Adj Close</th>\n",
       "      <th>Volume</th>\n",
       "    </tr>\n",
       "  </thead>\n",
       "  <tbody>\n",
       "    <tr>\n",
       "      <th>count</th>\n",
       "      <td>291.000000</td>\n",
       "      <td>291.000000</td>\n",
       "      <td>291.000000</td>\n",
       "      <td>291.000000</td>\n",
       "      <td>291.000000</td>\n",
       "      <td>2.910000e+02</td>\n",
       "    </tr>\n",
       "    <tr>\n",
       "      <th>mean</th>\n",
       "      <td>215.453093</td>\n",
       "      <td>217.688831</td>\n",
       "      <td>212.980928</td>\n",
       "      <td>215.091752</td>\n",
       "      <td>211.364746</td>\n",
       "      <td>2.796628e+07</td>\n",
       "    </tr>\n",
       "    <tr>\n",
       "      <th>std</th>\n",
       "      <td>12.614662</td>\n",
       "      <td>13.046961</td>\n",
       "      <td>11.929070</td>\n",
       "      <td>12.377110</td>\n",
       "      <td>14.448457</td>\n",
       "      <td>2.060150e+07</td>\n",
       "    </tr>\n",
       "    <tr>\n",
       "      <th>min</th>\n",
       "      <td>182.800003</td>\n",
       "      <td>188.449997</td>\n",
       "      <td>182.699997</td>\n",
       "      <td>184.050003</td>\n",
       "      <td>174.923737</td>\n",
       "      <td>7.024796e+06</td>\n",
       "    </tr>\n",
       "    <tr>\n",
       "      <th>25%</th>\n",
       "      <td>207.000000</td>\n",
       "      <td>208.650002</td>\n",
       "      <td>205.000000</td>\n",
       "      <td>206.550003</td>\n",
       "      <td>202.492867</td>\n",
       "      <td>1.531176e+07</td>\n",
       "    </tr>\n",
       "    <tr>\n",
       "      <th>50%</th>\n",
       "      <td>212.449997</td>\n",
       "      <td>214.250000</td>\n",
       "      <td>210.149994</td>\n",
       "      <td>211.750000</td>\n",
       "      <td>207.380371</td>\n",
       "      <td>2.215233e+07</td>\n",
       "    </tr>\n",
       "    <tr>\n",
       "      <th>75%</th>\n",
       "      <td>221.949997</td>\n",
       "      <td>224.750000</td>\n",
       "      <td>219.525002</td>\n",
       "      <td>221.774994</td>\n",
       "      <td>220.300003</td>\n",
       "      <td>3.314838e+07</td>\n",
       "    </tr>\n",
       "    <tr>\n",
       "      <th>max</th>\n",
       "      <td>261.399994</td>\n",
       "      <td>265.299988</td>\n",
       "      <td>257.350006</td>\n",
       "      <td>262.549988</td>\n",
       "      <td>262.549988</td>\n",
       "      <td>1.492389e+08</td>\n",
       "    </tr>\n",
       "  </tbody>\n",
       "</table>\n",
       "</div>"
      ],
      "text/plain": [
       "             Open        High         Low       Close   Adj Close  \\\n",
       "count  291.000000  291.000000  291.000000  291.000000  291.000000   \n",
       "mean   215.453093  217.688831  212.980928  215.091752  211.364746   \n",
       "std     12.614662   13.046961   11.929070   12.377110   14.448457   \n",
       "min    182.800003  188.449997  182.699997  184.050003  174.923737   \n",
       "25%    207.000000  208.650002  205.000000  206.550003  202.492867   \n",
       "50%    212.449997  214.250000  210.149994  211.750000  207.380371   \n",
       "75%    221.949997  224.750000  219.525002  221.774994  220.300003   \n",
       "max    261.399994  265.299988  257.350006  262.549988  262.549988   \n",
       "\n",
       "             Volume  \n",
       "count  2.910000e+02  \n",
       "mean   2.796628e+07  \n",
       "std    2.060150e+07  \n",
       "min    7.024796e+06  \n",
       "25%    1.531176e+07  \n",
       "50%    2.215233e+07  \n",
       "75%    3.314838e+07  \n",
       "max    1.492389e+08  "
      ]
     },
     "execution_count": 30,
     "metadata": {},
     "output_type": "execute_result"
    }
   ],
   "source": [
    "adani_df.describe()"
   ]
  },
  {
   "cell_type": "markdown",
   "id": "46a13e14",
   "metadata": {},
   "source": [
    "## Slicing data frame\n",
    "selection by label\n",
    "    .loc\n",
    "    --> fb.loc['2015-01-02', 'Close']\n",
    "selection by position\n",
    "    .iloc\n",
    "    -->fb.iloc[1,3]"
   ]
  },
  {
   "cell_type": "code",
   "execution_count": 31,
   "id": "6181dbf9",
   "metadata": {},
   "outputs": [
    {
     "data": {
      "text/plain": [
       "<AxesSubplot:xlabel='Date'>"
      ]
     },
     "execution_count": 31,
     "metadata": {},
     "output_type": "execute_result"
    },
    {
     "data": {
      "image/png": "[encoded data removed]",
      "text/plain": [
       "<Figure size 432x288 with 1 Axes>"
      ]
     },
     "metadata": {
      "needs_background": "light"
     },
     "output_type": "display_data"
    }
   ],
   "source": [
    "## for plotting stock price\n",
    "adani_df.loc[:,'Close'].plot()"
   ]
  },
  {
   "cell_type": "code",
   "execution_count": 32,
   "id": "0599876f",
   "metadata": {},
   "outputs": [
    {
     "data": {
      "text/plain": [
       "<AxesSubplot:xlabel='Date'>"
      ]
     },
     "execution_count": 32,
     "metadata": {},
     "output_type": "execute_result"
    },
    {
     "data": {
      "image/png": "[encoded data removed]",
      "text/plain": [
       "<Figure size 432x288 with 1 Axes>"
      ]
     },
     "metadata": {
      "needs_background": "light"
     },
     "output_type": "display_data"
    }
   ],
   "source": [
    "###for plotting open and close prices both\n",
    "adani_df.loc[:,['Open', 'Close']].plot()"
   ]
  },
  {
   "cell_type": "code",
   "execution_count": 33,
   "id": "071c9aef",
   "metadata": {},
   "outputs": [
    {
     "data": {
      "text/plain": [
       "<AxesSubplot:xlabel='Date'>"
      ]
     },
     "execution_count": 33,
     "metadata": {},
     "output_type": "execute_result"
    },
    {
     "data": {
      "image/png": "[encoded data removed]",
      "text/plain": [
       "<Figure size 432x288 with 1 Axes>"
      ]
     },
     "metadata": {
      "needs_background": "light"
     },
     "output_type": "display_data"
    }
   ],
   "source": [
    "adani_df.loc[:,['High', 'Close','Low']].plot()"
   ]
  },
  {
   "cell_type": "code",
   "execution_count": 34,
   "id": "e8244569",
   "metadata": {},
   "outputs": [
    {
     "data": {
      "text/html": [
       "<div>\n",
       "<style scoped>\n",
       "    .dataframe tbody tr th:only-of-type {\n",
       "        vertical-align: middle;\n",
       "    }\n",
       "\n",
       "    .dataframe tbody tr th {\n",
       "        vertical-align: top;\n",
       "    }\n",
       "\n",
       "    .dataframe thead th {\n",
       "        text-align: right;\n",
       "    }\n",
       "</style>\n",
       "<table border=\"1\" class=\"dataframe\">\n",
       "  <thead>\n",
       "    <tr style=\"text-align: right;\">\n",
       "      <th></th>\n",
       "      <th>Open</th>\n",
       "      <th>High</th>\n",
       "      <th>Low</th>\n",
       "      <th>Close</th>\n",
       "      <th>Adj Close</th>\n",
       "      <th>Volume</th>\n",
       "      <th>Price+1</th>\n",
       "      <th>PriceDiff</th>\n",
       "    </tr>\n",
       "    <tr>\n",
       "      <th>Date</th>\n",
       "      <th></th>\n",
       "      <th></th>\n",
       "      <th></th>\n",
       "      <th></th>\n",
       "      <th></th>\n",
       "      <th></th>\n",
       "      <th></th>\n",
       "      <th></th>\n",
       "    </tr>\n",
       "  </thead>\n",
       "  <tbody>\n",
       "    <tr>\n",
       "      <th>2020-11-18</th>\n",
       "      <td>186.800003</td>\n",
       "      <td>188.449997</td>\n",
       "      <td>182.750000</td>\n",
       "      <td>184.050003</td>\n",
       "      <td>174.923737</td>\n",
       "      <td>26595992</td>\n",
       "      <td>187.899994</td>\n",
       "      <td>3.849991</td>\n",
       "    </tr>\n",
       "    <tr>\n",
       "      <th>2020-11-19</th>\n",
       "      <td>182.800003</td>\n",
       "      <td>191.800003</td>\n",
       "      <td>182.699997</td>\n",
       "      <td>187.899994</td>\n",
       "      <td>178.582825</td>\n",
       "      <td>48984610</td>\n",
       "      <td>191.699997</td>\n",
       "      <td>3.800003</td>\n",
       "    </tr>\n",
       "    <tr>\n",
       "      <th>2020-11-20</th>\n",
       "      <td>188.800003</td>\n",
       "      <td>192.000000</td>\n",
       "      <td>186.050003</td>\n",
       "      <td>191.699997</td>\n",
       "      <td>182.194397</td>\n",
       "      <td>45307312</td>\n",
       "      <td>190.850006</td>\n",
       "      <td>-0.849991</td>\n",
       "    </tr>\n",
       "    <tr>\n",
       "      <th>2020-11-23</th>\n",
       "      <td>192.000000</td>\n",
       "      <td>192.500000</td>\n",
       "      <td>188.649994</td>\n",
       "      <td>190.850006</td>\n",
       "      <td>181.386551</td>\n",
       "      <td>23180456</td>\n",
       "      <td>195.550003</td>\n",
       "      <td>4.699997</td>\n",
       "    </tr>\n",
       "    <tr>\n",
       "      <th>2020-11-24</th>\n",
       "      <td>190.600006</td>\n",
       "      <td>196.449997</td>\n",
       "      <td>190.600006</td>\n",
       "      <td>195.550003</td>\n",
       "      <td>185.853500</td>\n",
       "      <td>45411815</td>\n",
       "      <td>193.850006</td>\n",
       "      <td>-1.699997</td>\n",
       "    </tr>\n",
       "  </tbody>\n",
       "</table>\n",
       "</div>"
      ],
      "text/plain": [
       "                  Open        High         Low       Close   Adj Close  \\\n",
       "Date                                                                     \n",
       "2020-11-18  186.800003  188.449997  182.750000  184.050003  174.923737   \n",
       "2020-11-19  182.800003  191.800003  182.699997  187.899994  178.582825   \n",
       "2020-11-20  188.800003  192.000000  186.050003  191.699997  182.194397   \n",
       "2020-11-23  192.000000  192.500000  188.649994  190.850006  181.386551   \n",
       "2020-11-24  190.600006  196.449997  190.600006  195.550003  185.853500   \n",
       "\n",
       "              Volume     Price+1  PriceDiff  \n",
       "Date                                         \n",
       "2020-11-18  26595992  187.899994   3.849991  \n",
       "2020-11-19  48984610  191.699997   3.800003  \n",
       "2020-11-20  45307312  190.850006  -0.849991  \n",
       "2020-11-23  23180456  195.550003   4.699997  \n",
       "2020-11-24  45411815  193.850006  -1.699997  "
      ]
     },
     "execution_count": 34,
     "metadata": {},
     "output_type": "execute_result"
    }
   ],
   "source": [
    "#calculating price difference of close of two days\n",
    "#first will create a column that will give close price of d+1 days\n",
    "adani_df['Price+1'] = adani_df['Close'].shift(-1)\n",
    "#now we will make another column of price difference\n",
    "adani_df['PriceDiff'] = adani_df['Price+1']-adani_df['Close']\n",
    "adani_df.head()"
   ]
  },
  {
   "cell_type": "code",
   "execution_count": 35,
   "id": "0d7cc08d",
   "metadata": {},
   "outputs": [
    {
     "data": {
      "text/plain": [
       "Date\n",
       "2020-11-18    0.020918\n",
       "2020-11-19    0.020224\n",
       "2020-11-20   -0.004434\n",
       "2020-11-23    0.024627\n",
       "2020-11-24   -0.008693\n",
       "Name: DailyReturn, dtype: float64"
      ]
     },
     "execution_count": 35,
     "metadata": {},
     "output_type": "execute_result"
    }
   ],
   "source": [
    "#for daily return: pricedifference divide by close\n",
    "adani_df['DailyReturn']=adani_df['PriceDiff']/adani_df['Close']\n",
    "adani_df['DailyReturn'].head()"
   ]
  },
  {
   "cell_type": "code",
   "execution_count": 36,
   "id": "431039b0",
   "metadata": {},
   "outputs": [
    {
     "data": {
      "text/plain": [
       "Date\n",
       "2022-01-13   -1\n",
       "2022-01-14    1\n",
       "2022-01-17   -1\n",
       "2022-01-18   -1\n",
       "2022-01-19    0\n",
       "Name: Direction, dtype: int64"
      ]
     },
     "execution_count": 36,
     "metadata": {},
     "output_type": "execute_result"
    }
   ],
   "source": [
    "#if price diff is positive, direction is up and it is bull\n",
    "#if opposite, its bear\n",
    "adani_df['Direction'] = [1 if adani_df.loc[ei,'PriceDiff']>0 else -1 if adani_df.loc[ei,'PriceDiff']<0 else 0  \n",
    "                        for ei in adani_df.index]\n",
    "\n",
    "adani_df['Direction'].tail()"
   ]
  },
  {
   "cell_type": "markdown",
   "id": "c0c2dc72",
   "metadata": {},
   "source": [
    "## Moving averages"
   ]
  },
  {
   "cell_type": "code",
   "execution_count": 60,
   "id": "2bbb99d5",
   "metadata": {},
   "outputs": [
    {
     "data": {
      "text/plain": [
       "<AxesSubplot:xlabel='Date'>"
      ]
     },
     "execution_count": 60,
     "metadata": {},
     "output_type": "execute_result"
    },
    {
     "data": {
      "image/png": "[encoded data removed]",
      "text/plain": [
       "<Figure size 432x288 with 1 Axes>"
      ]
     },
     "metadata": {
      "needs_background": "light"
     },
     "output_type": "display_data"
    }
   ],
   "source": [
    "#Calculating moving average using rolling()\n",
    "adani_df['MA25'] = adani_df['Close'].rolling(25).mean()\n",
    "adani_df['MA50'] = adani_df['Close'].rolling(50).mean()\n",
    "adani_df.loc[:,['Close','MA25','MA50']].plot()\n",
    "#smaller the days of average, faster it will signal\n",
    "#if MA25 is below MA 50, some traders believe stock will move down and vice versa"
   ]
  },
  {
   "cell_type": "code",
   "execution_count": 61,
   "id": "1092cd6c",
   "metadata": {},
   "outputs": [],
   "source": [
    "#Trading strategy\n",
    "adani_df['Shares'] = [1 if adani_df.loc[ei,'MA25']>adani_df.loc[ei,'MA50'] else 0\n",
    "                     for ei in adani_df.index]"
   ]
  },
  {
   "cell_type": "code",
   "execution_count": 62,
   "id": "fdf2fb18",
   "metadata": {},
   "outputs": [],
   "source": [
    "#for daily profit\n",
    "adani_df['Close+1'] = adani_df['Close'].shift(-1)\n",
    "adani_df['Profit'] = [adani_df.loc[ei, 'Close+1']-adani_df.loc[ei, 'Close'] \n",
    "                     if adani_df.loc[ei, 'Shares']==1\n",
    "                     else 0 for ei in adani_df.index]"
   ]
  },
  {
   "cell_type": "code",
   "execution_count": 63,
   "id": "df84d25f",
   "metadata": {},
   "outputs": [
    {
     "data": {
      "text/plain": [
       "<AxesSubplot:xlabel='Date'>"
      ]
     },
     "execution_count": 63,
     "metadata": {},
     "output_type": "execute_result"
    },
    {
     "data": {
      "image/png": "[encoded data removed]",
      "text/plain": [
       "<Figure size 432x288 with 1 Axes>"
      ]
     },
     "metadata": {
      "needs_background": "light"
     },
     "output_type": "display_data"
    }
   ],
   "source": [
    "adani_df['Profit'].plot()\n"
   ]
  },
  {
   "cell_type": "code",
   "execution_count": 64,
   "id": "dfad4708",
   "metadata": {},
   "outputs": [
    {
     "data": {
      "text/html": [
       "<div>\n",
       "<style scoped>\n",
       "    .dataframe tbody tr th:only-of-type {\n",
       "        vertical-align: middle;\n",
       "    }\n",
       "\n",
       "    .dataframe tbody tr th {\n",
       "        vertical-align: top;\n",
       "    }\n",
       "\n",
       "    .dataframe thead th {\n",
       "        text-align: right;\n",
       "    }\n",
       "</style>\n",
       "<table border=\"1\" class=\"dataframe\">\n",
       "  <thead>\n",
       "    <tr style=\"text-align: right;\">\n",
       "      <th></th>\n",
       "      <th>Open</th>\n",
       "      <th>High</th>\n",
       "      <th>Low</th>\n",
       "      <th>Close</th>\n",
       "      <th>Adj Close</th>\n",
       "      <th>Volume</th>\n",
       "      <th>Price+1</th>\n",
       "      <th>PriceDiff</th>\n",
       "      <th>DailyReturn</th>\n",
       "      <th>Direction</th>\n",
       "      <th>MA25</th>\n",
       "      <th>MA50</th>\n",
       "      <th>Shares</th>\n",
       "      <th>Close+1</th>\n",
       "      <th>Profit</th>\n",
       "      <th>wealth</th>\n",
       "    </tr>\n",
       "    <tr>\n",
       "      <th>Date</th>\n",
       "      <th></th>\n",
       "      <th></th>\n",
       "      <th></th>\n",
       "      <th></th>\n",
       "      <th></th>\n",
       "      <th></th>\n",
       "      <th></th>\n",
       "      <th></th>\n",
       "      <th></th>\n",
       "      <th></th>\n",
       "      <th></th>\n",
       "      <th></th>\n",
       "      <th></th>\n",
       "      <th></th>\n",
       "      <th></th>\n",
       "      <th></th>\n",
       "    </tr>\n",
       "  </thead>\n",
       "  <tbody>\n",
       "    <tr>\n",
       "      <th>2022-01-13</th>\n",
       "      <td>223.899994</td>\n",
       "      <td>225.800003</td>\n",
       "      <td>222.750000</td>\n",
       "      <td>223.949997</td>\n",
       "      <td>223.949997</td>\n",
       "      <td>11501088</td>\n",
       "      <td>222.600006</td>\n",
       "      <td>-1.349991</td>\n",
       "      <td>-0.006028</td>\n",
       "      <td>-1</td>\n",
       "      <td>220.550001</td>\n",
       "      <td>224.433</td>\n",
       "      <td>0</td>\n",
       "      <td>222.600006</td>\n",
       "      <td>0.0</td>\n",
       "      <td>12.5</td>\n",
       "    </tr>\n",
       "    <tr>\n",
       "      <th>2022-01-14</th>\n",
       "      <td>223.949997</td>\n",
       "      <td>224.800003</td>\n",
       "      <td>222.300003</td>\n",
       "      <td>222.600006</td>\n",
       "      <td>222.600006</td>\n",
       "      <td>10569725</td>\n",
       "      <td>224.600006</td>\n",
       "      <td>2.000000</td>\n",
       "      <td>0.008985</td>\n",
       "      <td>1</td>\n",
       "      <td>220.010001</td>\n",
       "      <td>224.436</td>\n",
       "      <td>0</td>\n",
       "      <td>224.600006</td>\n",
       "      <td>0.0</td>\n",
       "      <td>12.5</td>\n",
       "    </tr>\n",
       "    <tr>\n",
       "      <th>2022-01-17</th>\n",
       "      <td>222.600006</td>\n",
       "      <td>225.600006</td>\n",
       "      <td>221.350006</td>\n",
       "      <td>224.600006</td>\n",
       "      <td>224.600006</td>\n",
       "      <td>12318313</td>\n",
       "      <td>220.750000</td>\n",
       "      <td>-3.850006</td>\n",
       "      <td>-0.017142</td>\n",
       "      <td>-1</td>\n",
       "      <td>219.610001</td>\n",
       "      <td>224.397</td>\n",
       "      <td>0</td>\n",
       "      <td>220.750000</td>\n",
       "      <td>0.0</td>\n",
       "      <td>12.5</td>\n",
       "    </tr>\n",
       "    <tr>\n",
       "      <th>2022-01-18</th>\n",
       "      <td>224.600006</td>\n",
       "      <td>227.300003</td>\n",
       "      <td>220.300003</td>\n",
       "      <td>220.750000</td>\n",
       "      <td>220.750000</td>\n",
       "      <td>14394097</td>\n",
       "      <td>220.350006</td>\n",
       "      <td>-0.399994</td>\n",
       "      <td>-0.001812</td>\n",
       "      <td>-1</td>\n",
       "      <td>219.296000</td>\n",
       "      <td>224.216</td>\n",
       "      <td>0</td>\n",
       "      <td>220.350006</td>\n",
       "      <td>0.0</td>\n",
       "      <td>12.5</td>\n",
       "    </tr>\n",
       "    <tr>\n",
       "      <th>2022-01-19</th>\n",
       "      <td>220.750000</td>\n",
       "      <td>222.399994</td>\n",
       "      <td>218.699997</td>\n",
       "      <td>220.350006</td>\n",
       "      <td>220.350006</td>\n",
       "      <td>11473796</td>\n",
       "      <td>NaN</td>\n",
       "      <td>NaN</td>\n",
       "      <td>NaN</td>\n",
       "      <td>0</td>\n",
       "      <td>219.148000</td>\n",
       "      <td>224.048</td>\n",
       "      <td>0</td>\n",
       "      <td>NaN</td>\n",
       "      <td>0.0</td>\n",
       "      <td>12.5</td>\n",
       "    </tr>\n",
       "  </tbody>\n",
       "</table>\n",
       "</div>"
      ],
      "text/plain": [
       "                  Open        High         Low       Close   Adj Close  \\\n",
       "Date                                                                     \n",
       "2022-01-13  223.899994  225.800003  222.750000  223.949997  223.949997   \n",
       "2022-01-14  223.949997  224.800003  222.300003  222.600006  222.600006   \n",
       "2022-01-17  222.600006  225.600006  221.350006  224.600006  224.600006   \n",
       "2022-01-18  224.600006  227.300003  220.300003  220.750000  220.750000   \n",
       "2022-01-19  220.750000  222.399994  218.699997  220.350006  220.350006   \n",
       "\n",
       "              Volume     Price+1  PriceDiff  DailyReturn  Direction  \\\n",
       "Date                                                                  \n",
       "2022-01-13  11501088  222.600006  -1.349991    -0.006028         -1   \n",
       "2022-01-14  10569725  224.600006   2.000000     0.008985          1   \n",
       "2022-01-17  12318313  220.750000  -3.850006    -0.017142         -1   \n",
       "2022-01-18  14394097  220.350006  -0.399994    -0.001812         -1   \n",
       "2022-01-19  11473796         NaN        NaN          NaN          0   \n",
       "\n",
       "                  MA25     MA50  Shares     Close+1  Profit  wealth  \n",
       "Date                                                                 \n",
       "2022-01-13  220.550001  224.433       0  222.600006     0.0    12.5  \n",
       "2022-01-14  220.010001  224.436       0  224.600006     0.0    12.5  \n",
       "2022-01-17  219.610001  224.397       0  220.750000     0.0    12.5  \n",
       "2022-01-18  219.296000  224.216       0  220.350006     0.0    12.5  \n",
       "2022-01-19  219.148000  224.048       0         NaN     0.0    12.5  "
      ]
     },
     "execution_count": 64,
     "metadata": {},
     "output_type": "execute_result"
    }
   ],
   "source": [
    "#cumulative wealth\n",
    "adani_df['wealth'] = adani_df['Profit'].cumsum()\n",
    "adani_df.tail()"
   ]
  },
  {
   "cell_type": "markdown",
   "id": "64535425",
   "metadata": {},
   "source": [
    "Therefore this strategy made about 32 rs"
   ]
  },
  {
   "cell_type": "code",
   "execution_count": 65,
   "id": "ae70062d",
   "metadata": {},
   "outputs": [
    {
     "name": "stdout",
     "output_type": "stream",
     "text": [
      "total money you earn is  12.5\n",
      "total money you spent is  184.0500030517578\n"
     ]
    }
   ],
   "source": [
    "print(\"total money you earn is \", adani_df.loc[adani_df.index[-2],'wealth'])\n",
    "print(\"total money you spent is \", adani_df.loc[adani_df.index[0],'Close'])"
   ]
  },
  {
   "cell_type": "code",
   "execution_count": 66,
   "id": "afa46653",
   "metadata": {},
   "outputs": [
    {
     "name": "stdout",
     "output_type": "stream",
     "text": [
      "Returns in percentage =  6.79163259589015  %\n"
     ]
    }
   ],
   "source": [
    "#Profit percentage?\n",
    "print(\"Returns in percentage = \", adani_df.loc[adani_df.index[-2],'wealth']/adani_df.loc[adani_df.index[0],'Close']*100,\" %\")"
   ]
  },
  {
   "cell_type": "code",
   "execution_count": 52,
   "id": "8f484c3c",
   "metadata": {},
   "outputs": [
    {
     "data": {
      "text/plain": [
       "Index(['Open', 'High', 'Low', 'Close', 'Adj Close', 'Volume', 'Price+1',\n",
       "       'PriceDiff', 'DailyReturn', 'Direction', 'MA25', 'MA50', 'Shares',\n",
       "       'Close+1', 'Profit', 'wealth'],\n",
       "      dtype='object')"
      ]
     },
     "execution_count": 52,
     "metadata": {},
     "output_type": "execute_result"
    }
   ],
   "source": [
    "adani_df.columns\n",
    "#gives information of all the columns\n"
   ]
  },
  {
   "cell_type": "markdown",
   "id": "7d4fc543",
   "metadata": {},
   "source": [
    "## Random variable\n",
    "# Discrete random variables vs Continuous Random variable\n",
    "#"
   ]
  },
  {
   "cell_type": "code",
   "execution_count": 21,
   "id": "89a39ecc",
   "metadata": {},
   "outputs": [],
   "source": [
    "from scipy.stats import norm"
   ]
  },
  {
   "cell_type": "code",
   "execution_count": null,
   "id": "815a38cc",
   "metadata": {},
   "outputs": [],
   "source": []
  }
 ],
 "metadata": {
  "kernelspec": {
   "display_name": "Python 3",
   "language": "python",
   "name": "python3"
  },
  "language_info": {
   "codemirror_mode": {
    "name": "ipython",
    "version": 3
   },
   "file_extension": ".py",
   "mimetype": "text/x-python",
   "name": "python",
   "nbconvert_exporter": "python",
   "pygments_lexer": "ipython3",
   "version": "3.8.8"
  }
 },
 "nbformat": 4,
 "nbformat_minor": 5
}
