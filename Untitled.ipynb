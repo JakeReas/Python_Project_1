{
 "cells": [
  {
   "cell_type": "code",
   "execution_count": 2,
   "id": "3c48b60e",
   "metadata": {},
   "outputs": [],
   "source": [
    "import numpy as np\n",
    "import pandas as pd\n",
    "import requests\n",
    "import math\n",
    "import xlsxwriter"
   ]
  },
  {
   "cell_type": "code",
   "execution_count": 3,
   "id": "c65f4870",
   "metadata": {},
   "outputs": [],
   "source": [
    "stocks = pd.read_csv('sp_500_stocks.csv')"
   ]
  },
  {
   "cell_type": "code",
   "execution_count": 4,
   "id": "77b83f42",
   "metadata": {},
   "outputs": [],
   "source": [
    "from secrets import IEX_CLOUD_API_TOKEN"
   ]
  },
  {
   "cell_type": "code",
   "execution_count": 8,
   "id": "28a63cfd",
   "metadata": {},
   "outputs": [
    {
     "data": {
      "text/plain": [
       "{'avgTotalVolume': 92770107,\n",
       " 'calculationPrice': 'tops',\n",
       " 'change': -1.29,\n",
       " 'changePercent': -0.009,\n",
       " 'close': 0,\n",
       " 'closeSource': 'liafocif',\n",
       " 'closeTime': None,\n",
       " 'companyName': 'Apple Inc',\n",
       " 'currency': 'USD',\n",
       " 'delayedPrice': None,\n",
       " 'delayedPriceTime': None,\n",
       " 'extendedChange': None,\n",
       " 'extendedChangePercent': None,\n",
       " 'extendedPrice': None,\n",
       " 'extendedPriceTime': None,\n",
       " 'high': 0,\n",
       " 'highSource': None,\n",
       " 'highTime': None,\n",
       " 'iexAskPrice': 146.42,\n",
       " 'iexAskSize': 101,\n",
       " 'iexBidPrice': 140.41,\n",
       " 'iexBidSize': 103,\n",
       " 'iexClose': 141.63,\n",
       " 'iexCloseTime': 1695965338024,\n",
       " 'iexLastUpdated': 1676407499812,\n",
       " 'iexMarketPercent': 0.013093409430851709,\n",
       " 'iexOpen': 143.34,\n",
       " 'iexOpenTime': 1715178507580,\n",
       " 'iexRealtimePrice': 143.51,\n",
       " 'iexRealtimeSize': 6,\n",
       " 'iexVolume': 488767,\n",
       " 'lastTradeTime': 1695470844779,\n",
       " 'latestPrice': 143.71,\n",
       " 'latestSource': 'IEX real time price',\n",
       " 'latestTime': '11:45:30 AM',\n",
       " 'latestUpdate': 1657986091466,\n",
       " 'latestVolume': None,\n",
       " 'low': 0,\n",
       " 'lowSource': None,\n",
       " 'lowTime': None,\n",
       " 'marketCap': 2335720724602,\n",
       " 'oddLotDelayedPrice': None,\n",
       " 'oddLotDelayedPriceTime': None,\n",
       " 'open': 0,\n",
       " 'openTime': None,\n",
       " 'openSource': 'flaocfii',\n",
       " 'peRatio': 28.67,\n",
       " 'previousClose': 141.7,\n",
       " 'previousVolume': 83777408,\n",
       " 'primaryExchange': 'QSADNA',\n",
       " 'symbol': 'AAPL',\n",
       " 'volume': None,\n",
       " 'week52High': 165.01,\n",
       " 'week52Low': 108.97,\n",
       " 'ytdChange': 0.06008878444283564,\n",
       " 'isUSMarketOpen': True}"
      ]
     },
     "execution_count": 8,
     "metadata": {},
     "output_type": "execute_result"
    }
   ],
   "source": [
    "symbol='AAPL'\n",
    "api_url = f'https://sandbox.iexapis.com/stable/stock/{symbol}/quote?token={IEX_CLOUD_API_TOKEN}'\n",
    "data = requests.get(api_url).json()\n",
    "data"
   ]
  },
  {
   "cell_type": "code",
   "execution_count": null,
   "id": "712d8fc9",
   "metadata": {},
   "outputs": [],
   "source": []
  }
 ],
 "metadata": {
  "kernelspec": {
   "display_name": "Python 3",
   "language": "python",
   "name": "python3"
  },
  "language_info": {
   "codemirror_mode": {
    "name": "ipython",
    "version": 3
   },
   "file_extension": ".py",
   "mimetype": "text/x-python",
   "name": "python",
   "nbconvert_exporter": "python",
   "pygments_lexer": "ipython3",
   "version": "3.8.8"
  }
 },
 "nbformat": 4,
 "nbformat_minor": 5
}
